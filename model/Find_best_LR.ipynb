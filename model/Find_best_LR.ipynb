import re

def find_min_loss_and_lr():
    with open("training_log.txt", "r") as file:
        lines = file.readlines()

    min_loss = float("inf")
    min_loss_lr = None

    for line in lines:
        loss_match = re.search(r"\[Loss\] (\d+\.\d+)", line)
        lr_match = re.search(r"\[LR\] (\d+\.\d+)", line)

        if loss_match and lr_match:
            loss = float(loss_match.group(1))
            lr = float(lr_match.group(1))

            if loss < min_loss:
                min_loss = loss
                min_loss_lr = lr

    return min_loss_lr

print(find_min_loss_and_lr())